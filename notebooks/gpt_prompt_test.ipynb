{
 "cells": [
  {
   "cell_type": "markdown",
   "id": "41ea3e0a",
   "metadata": {},
   "source": [
    "# 🤖 GPT Prompt-Based Recommendation Testing"
   ]
  },
  {
   "cell_type": "markdown",
   "id": "b4f1eecb",
   "metadata": {},
   "source": [
    "This notebook demonstrates how GPT responds to various threat prompts to recommend mitigation techniques."
   ]
  },
  {
   "cell_type": "code",
   "execution_count": null,
   "id": "189e59b0",
   "metadata": {},
   "outputs": [],
   "source": [
    "# Example prompt format:\n",
    "prompt = '''\n",
    "Suggest the best cloud security technique for each threat below:\n",
    "\n",
    "Threat: Phishing attack  \n",
    "Technique: Identity-Based Authentication (IBA)\n",
    "\n",
    "Threat: Denial of service  \n",
    "Technique: Self-Cleansing Intrusion Tolerance (C-SCIT)\n",
    "\n",
    "Threat: Password Guessing  \n",
    "Technique: Role-Based Access Control (RBAC)\n",
    "\n",
    "Threat: Injection attack  \n",
    "Technique:\n",
    "'''\n",
    "print(prompt.strip())\n"
   ]
  },
  {
   "cell_type": "markdown",
   "id": "86a54515",
   "metadata": {},
   "source": [
    "### Expected GPT Output:\n",
    "`Technique: Dynamic intrusion detection system`"
   ]
  },
  {
   "cell_type": "markdown",
   "id": "b8a8994d",
   "metadata": {},
   "source": [
    "You can copy this prompt into ChatGPT or OpenAI Playground for actual results."
   ]
  }
 ],
 "metadata": {},
 "nbformat": 4,
 "nbformat_minor": 5
}