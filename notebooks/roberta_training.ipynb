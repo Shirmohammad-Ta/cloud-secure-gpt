{
 "cells": [
  {
   "cell_type": "markdown",
   "id": "0e175d6e",
   "metadata": {},
   "source": [
    "# 📘 RoBERTa Model Training for Cloud Threat Classification"
   ]
  },
  {
   "cell_type": "markdown",
   "id": "b8922f52",
   "metadata": {},
   "source": [
    "This notebook demonstrates how to train a `roberta-base` model to classify cloud threats into multiple security attributes."
   ]
  },
  {
   "cell_type": "code",
   "execution_count": null,
   "id": "46875ceb",
   "metadata": {},
   "outputs": [],
   "source": [
    "!pip install transformers datasets torch scikit-learn"
   ]
  },
  {
   "cell_type": "code",
   "execution_count": null,
   "id": "316176ed",
   "metadata": {},
   "outputs": [],
   "source": [
    "from transformers import RobertaTokenizer, RobertaForSequenceClassification, Trainer, TrainingArguments\n",
    "import pandas as pd\n",
    "import torch\n",
    "from sklearn.model_selection import train_test_split\n",
    "from sklearn.metrics import classification_report\n",
    "from torch.utils.data import Dataset"
   ]
  },
  {
   "cell_type": "code",
   "execution_count": null,
   "id": "d9139e1b",
   "metadata": {},
   "outputs": [],
   "source": [
    "df = pd.read_csv(\"../data/cloud_security_challenges.csv\")\n",
    "X = df[\"Challenge\"]\n",
    "y = df.drop(columns=[\"Challenge\"]).values.tolist()\n",
    "labels = df.columns[1:].tolist()"
   ]
  },
  {
   "cell_type": "code",
   "execution_count": null,
   "id": "2b6c2caf",
   "metadata": {},
   "outputs": [],
   "source": [
    "tokenizer = RobertaTokenizer.from_pretrained(\"roberta-base\")"
   ]
  },
  {
   "cell_type": "code",
   "execution_count": null,
   "id": "e90fc6a7",
   "metadata": {},
   "outputs": [],
   "source": [
    "class ThreatDataset(Dataset):\n",
    "    def __init__(self, texts, labels, tokenizer, max_len=64):\n",
    "        self.texts = texts\n",
    "        self.labels = labels\n",
    "        self.tokenizer = tokenizer\n",
    "        self.max_len = max_len\n",
    "\n",
    "    def __len__(self):\n",
    "        return len(self.texts)\n",
    "\n",
    "    def __getitem__(self, idx):\n",
    "        inputs = self.tokenizer(\n",
    "            self.texts[idx], padding='max_length', truncation=True,\n",
    "            max_length=self.max_len, return_tensors=\"pt\"\n",
    "        )\n",
    "        inputs = {k: v.squeeze(0) for k, v in inputs.items()}\n",
    "        inputs['labels'] = torch.tensor(self.labels[idx], dtype=torch.float)\n",
    "        return inputs"
   ]
  },
  {
   "cell_type": "code",
   "execution_count": null,
   "id": "3c20c7f2",
   "metadata": {},
   "outputs": [],
   "source": [
    "X_train, X_test, y_train, y_test = train_test_split(X, y, test_size=0.2)\n",
    "train_dataset = ThreatDataset(X_train.tolist(), y_train, tokenizer)\n",
    "test_dataset = ThreatDataset(X_test.tolist(), y_test, tokenizer)"
   ]
  },
  {
   "cell_type": "code",
   "execution_count": null,
   "id": "11231c5e",
   "metadata": {},
   "outputs": [],
   "source": [
    "model = RobertaForSequenceClassification.from_pretrained(\n",
    "    \"roberta-base\", num_labels=len(labels), problem_type=\"multi_label_classification\")"
   ]
  },
  {
   "cell_type": "code",
   "execution_count": null,
   "id": "5a351de2",
   "metadata": {},
   "outputs": [],
   "source": [
    "training_args = TrainingArguments(\n",
    "    output_dir=\"./results\",\n",
    "    evaluation_strategy=\"epoch\",\n",
    "    per_device_train_batch_size=4,\n",
    "    num_train_epochs=3,\n",
    "    logging_dir=\"./logs\",\n",
    "    logging_steps=10)"
   ]
  },
  {
   "cell_type": "code",
   "execution_count": null,
   "id": "fc7789c0",
   "metadata": {},
   "outputs": [],
   "source": [
    "trainer = Trainer(\n",
    "    model=model,\n",
    "    args=training_args,\n",
    "    train_dataset=train_dataset,\n",
    "    eval_dataset=test_dataset\n",
    ")\n",
    "trainer.train()"
   ]
  },
  {
   "cell_type": "code",
   "execution_count": null,
   "id": "f22d094f",
   "metadata": {},
   "outputs": [],
   "source": [
    "predictions = trainer.predict(test_dataset).predictions\n",
    "y_pred = (predictions > 0.5).astype(int)\n",
    "print(classification_report(y_test, y_pred, target_names=labels))"
   ]
  }
 ],
 "metadata": {},
 "nbformat": 4,
 "nbformat_minor": 5
}